{
 "cells": [
  {
   "cell_type": "markdown",
   "metadata": {},
   "source": [
    "# Exploring Hacker News Posts Project\n",
    "## Introduction\n",
    "This project is to bring together the following skills for some real-world practice:\n",
    "- How to work with strings\n",
    "- Object-oriented programming\n",
    "- Dates and times\n",
    "The dataset I'll be working with will be from a popular technology site [Hacker News](https://news.ycombinator.com/). \n",
    "\n",
    "![HackerNews Image](https://s3.amazonaws.com/dq-content/354/hacker_news.jpg)\n",
    "\n",
    "Hacker news is a site started by the startup incubator [Y Combinator](https://www.ycombinator.com/), where user-submitted stories (known as \"posts\") receive votes and comments, similar to reddit. Hacker News is extremely popular in technology and startup circles, and posts that make it to the top of the Hacker News listings can get hundreds of thousands of visitors as a result. \n",
    "\n",
    "You can find the dataset [here](https://www.kaggle.com/hacker-news/hacker-news-posts), but note the rows are reduced from almost 300,000 rows to approximately 20,000 rows by removing all submissions that didn't receive any comments and then randomly sampling from the remaining submissions. Below are descriptions of the columns:\n",
    "- `id`: the unique identifier from Hacker News for the post\n",
    "- `title`: the title of the post\n",
    "- `url`: the URL that the posts links to, if the post has a URL\n",
    "- `num_points`: the number of points the post acquired, calculated as the total number of upvotes minus the total number of downvotes\n",
    "- `num_comments`: the number of comments on the post\n",
    "- `author`: the username of the person who submitted the post\n",
    "- `created_at`: the date and time of the post's submission\n",
    "\n",
    "I am specifically interested in posts with titles that begin with either `Ask HN` or `Show HN`. Users submit `Ask HN` post to ask the Hacker News community a specific question. Below are a few examples:\n",
    "\n",
    "`\n",
    "Ask HN: How to improve my personal website?\n",
    "Ask HN: Am I the only one outraged by Twitter shutting down share counts?\n",
    "Ask HN: Aby recent changes to CSS that broke mobile?\n",
    "`\n",
    "\n",
    "Likewise, users submit `Show HN` posts to show the Hacker News community a project, product, or just something interesting. Below are a few eamples:\n",
    "\n",
    "`\n",
    "Show HN: Wio Link  ESP8266 Based Web of Things Hardware Development Platform'\n",
    "Show HN: Something pointless I made\n",
    "Show HN: Shanhu.io, a programming playground powered by e8vm\n",
    "`\n",
    "\n",
    "### Goal of Project\n",
    "I will compare the two types of posts discussed to determine the following:\n",
    "- Do `Ask HN` or `Show HN` receive more comments on average?\n",
    "- Do posts created at a certain time receive more comments on average?\n",
    "\n",
    "\n",
    "### Importing and Reading in Data\n",
    "I will begin by importing the libraries I will need and reading the dataset into a list of lists. \n"
   ]
  },
  {
   "cell_type": "code",
   "execution_count": 1,
   "metadata": {
    "scrolled": true
   },
   "outputs": [
    {
     "data": {
      "text/plain": [
       "[['id', 'title', 'url', 'num_points', 'num_comments', 'author', 'created_at'],\n",
       " ['12224879',\n",
       "  'Interactive Dynamic Video',\n",
       "  'http://www.interactivedynamicvideo.com/',\n",
       "  '386',\n",
       "  '52',\n",
       "  'ne0phyte',\n",
       "  '8/4/2016 11:52'],\n",
       " ['10975351',\n",
       "  'How to Use Open Source and Shut the Fuck Up at the Same Time',\n",
       "  'http://hueniverse.com/2016/01/26/how-to-use-open-source-and-shut-the-fuck-up-at-the-same-time/',\n",
       "  '39',\n",
       "  '10',\n",
       "  'josep2',\n",
       "  '1/26/2016 19:30'],\n",
       " ['11964716',\n",
       "  \"Florida DJs May Face Felony for April Fools' Water Joke\",\n",
       "  'http://www.thewire.com/entertainment/2013/04/florida-djs-april-fools-water-joke/63798/',\n",
       "  '2',\n",
       "  '1',\n",
       "  'vezycash',\n",
       "  '6/23/2016 22:20'],\n",
       " ['11919867',\n",
       "  'Technology ventures: From Idea to Enterprise',\n",
       "  'https://www.amazon.com/Technology-Ventures-Enterprise-Thomas-Byers/dp/0073523429',\n",
       "  '3',\n",
       "  '1',\n",
       "  'hswarna',\n",
       "  '6/17/2016 0:01']]"
      ]
     },
     "execution_count": 1,
     "metadata": {},
     "output_type": "execute_result"
    }
   ],
   "source": [
    "from csv import reader\n",
    "opened_file = open('hacker_news.csv')\n",
    "read_file = reader(opened_file)\n",
    "#hn stands for hacker news\n",
    "hn = list(read_file)\n",
    "hn[:5]"
   ]
  },
  {
   "cell_type": "markdown",
   "metadata": {},
   "source": [
    "### Removing Headers from a List of Lists\n",
    "\n",
    "From the above result, notice that the first list in the inner lists contains the column headers, and the lists after contain the data for one row. In order to analyze the data, I need to first remove the row containing the column headers, which is what I will do next."
   ]
  },
  {
   "cell_type": "code",
   "execution_count": 2,
   "metadata": {},
   "outputs": [
    {
     "name": "stdout",
     "output_type": "stream",
     "text": [
      "['id', 'title', 'url', 'num_points', 'num_comments', 'author', 'created_at']\n",
      "[['12224879', 'Interactive Dynamic Video', 'http://www.interactivedynamicvideo.com/', '386', '52', 'ne0phyte', '8/4/2016 11:52'], ['10975351', 'How to Use Open Source and Shut the Fuck Up at the Same Time', 'http://hueniverse.com/2016/01/26/how-to-use-open-source-and-shut-the-fuck-up-at-the-same-time/', '39', '10', 'josep2', '1/26/2016 19:30'], ['11964716', \"Florida DJs May Face Felony for April Fools' Water Joke\", 'http://www.thewire.com/entertainment/2013/04/florida-djs-april-fools-water-joke/63798/', '2', '1', 'vezycash', '6/23/2016 22:20'], ['11919867', 'Technology ventures: From Idea to Enterprise', 'https://www.amazon.com/Technology-Ventures-Enterprise-Thomas-Byers/dp/0073523429', '3', '1', 'hswarna', '6/17/2016 0:01']]\n"
     ]
    }
   ],
   "source": [
    "headers = hn[0]\n",
    "del hn[0]\n",
    "print(headers)\n",
    "print(hn[0:4])"
   ]
  },
  {
   "cell_type": "markdown",
   "metadata": {},
   "source": [
    "### Extracting Ask HN and Show HN Posts\n",
    "\n",
    "Now that I have removed the headers from `hn`, I am ready to filter the data. Since I am only concerned with post titles beginning with `Ask HN` or `Show HN`, I will create new lists of lists containing just the data for those titles\n",
    "\n",
    "To find the posts that begin with either `Ask HN` or `Show HN`, I will use the string method `startswith`. "
   ]
  },
  {
   "cell_type": "code",
   "execution_count": 3,
   "metadata": {},
   "outputs": [
    {
     "name": "stdout",
     "output_type": "stream",
     "text": [
      "The ask hn posts have 1744 entries\n",
      "The show hn posts have 1162 entries\n",
      "The other posts have 17194 entries\n"
     ]
    }
   ],
   "source": [
    "ask_posts = []\n",
    "show_posts = []\n",
    "other_posts = []\n",
    "\n",
    "for row in hn:\n",
    "    title = row[1]\n",
    "    if title.lower().startswith(\"ask hn\"):\n",
    "        ask_posts.append(row)\n",
    "    elif title.lower().startswith(\"show hn\"):\n",
    "        show_posts.append(row)\n",
    "    else:\n",
    "        other_posts.append(row)\n",
    "\n",
    "print(\"The ask hn posts have\",len(ask_posts),\"entries\")\n",
    "print(\"The show hn posts have\",len(show_posts),\"entries\")\n",
    "print(\"The other posts have\",len(other_posts),\"entries\")\n",
    "    "
   ]
  },
  {
   "cell_type": "markdown",
   "metadata": {},
   "source": [
    "On the previous code box, I seperated the \"ask posts\" and \"show posts\" into two lists of lists name `ask_posts` and `show_posts`. There were 1744 ask posts, 1162 show posts, and 17194 other posts. Below are the first five rows of the `ask_posts` list of lists:"
   ]
  },
  {
   "cell_type": "code",
   "execution_count": 4,
   "metadata": {},
   "outputs": [
    {
     "name": "stdout",
     "output_type": "stream",
     "text": [
      "[['12296411', 'Ask HN: How to improve my personal website?', '', '2', '6', 'ahmedbaracat', '8/16/2016 9:55'], ['10610020', 'Ask HN: Am I the only one outraged by Twitter shutting down share counts?', '', '28', '29', 'tkfx', '11/22/2015 13:43'], ['11610310', 'Ask HN: Aby recent changes to CSS that broke mobile?', '', '1', '1', 'polskibus', '5/2/2016 10:14'], ['12210105', 'Ask HN: Looking for Employee #3 How do I do it?', '', '1', '3', 'sph130', '8/2/2016 14:20'], ['10394168', 'Ask HN: Someone offered to buy my browser extension from me. What now?', '', '28', '17', 'roykolak', '10/15/2015 16:38']]\n"
     ]
    }
   ],
   "source": [
    "print(ask_posts[:5])"
   ]
  },
  {
   "cell_type": "markdown",
   "metadata": {},
   "source": [
    "Below are the first five rows in the `show_posts` list of lists:"
   ]
  },
  {
   "cell_type": "code",
   "execution_count": 5,
   "metadata": {},
   "outputs": [
    {
     "name": "stdout",
     "output_type": "stream",
     "text": [
      "[['10627194', 'Show HN: Wio Link  ESP8266 Based Web of Things Hardware Development Platform', 'https://iot.seeed.cc', '26', '22', 'kfihihc', '11/25/2015 14:03'], ['10646440', 'Show HN: Something pointless I made', 'http://dn.ht/picklecat/', '747', '102', 'dhotson', '11/29/2015 22:46'], ['11590768', 'Show HN: Shanhu.io, a programming playground powered by e8vm', 'https://shanhu.io', '1', '1', 'h8liu', '4/28/2016 18:05'], ['12178806', 'Show HN: Webscope  Easy way for web developers to communicate with Clients', 'http://webscopeapp.com', '3', '3', 'fastbrick', '7/28/2016 7:11'], ['10872799', 'Show HN: GeoScreenshot  Easily test Geo-IP based web pages', 'https://www.geoscreenshot.com/', '1', '9', 'kpsychwave', '1/9/2016 20:45']]\n"
     ]
    }
   ],
   "source": [
    "print(show_posts[:5])"
   ]
  },
  {
   "cell_type": "markdown",
   "metadata": {},
   "source": [
    "Next, I will determine if ask posts or show posts receive more comments on average. First, I will compute the average of the `ask_posts` list."
   ]
  },
  {
   "cell_type": "code",
   "execution_count": 6,
   "metadata": {},
   "outputs": [
    {
     "name": "stdout",
     "output_type": "stream",
     "text": [
      "The average number of ask comments 14.04\n"
     ]
    }
   ],
   "source": [
    "#empty variable\n",
    "total_ask_comments = 0\n",
    "#iterating over the rows in ask_posts\n",
    "for row in ask_posts:\n",
    "    #getting comment number in the row turning it to an int and storing in total\n",
    "    total_ask_comments += int(row[4])\n",
    "#getting the average number\n",
    "avg_ask_comments = (total_ask_comments / (len(ask_posts)))\n",
    "print(\"The average number of ask comments\", \"{:.2f}\".format(avg_ask_comments))"
   ]
  },
  {
   "cell_type": "markdown",
   "metadata": {},
   "source": [
    "The average number of ask comments is 14.04. Next, I will do the same steps for the `show_posts` list."
   ]
  },
  {
   "cell_type": "code",
   "execution_count": 7,
   "metadata": {},
   "outputs": [
    {
     "name": "stdout",
     "output_type": "stream",
     "text": [
      "The average number of show comments 10.32\n"
     ]
    }
   ],
   "source": [
    "#empty variable\n",
    "total_show_comments = 0\n",
    "#iterating over the rows in ask_posts\n",
    "for row in show_posts:\n",
    "    #getting comment number in the row turning it to an int and storing in total\n",
    "    total_show_comments += int(row[4])\n",
    "#getting the average number\n",
    "avg_show_comments = (total_show_comments / (len(show_posts)))\n",
    "print(\"The average number of show comments\", \"{:.2f}\".format(avg_show_comments))"
   ]
  },
  {
   "cell_type": "markdown",
   "metadata": {},
   "source": [
    "The average number of show comments is 10.32. Therefore, based on our calculations, ask comments receive more comments on average compared to show comments. This could make sense because when someone is asking a question more people may want to respond compared to when someone is showing something. \n",
    "\n",
    "For the remainder of the project, I will focus on the ask posts because they receive more comments. Our next goal is to determine if ask posts created at a certain time are more likely to attract comments. Therefore, we'll use the following steps. \n",
    "\n",
    "<ol>\n",
    "  <li>Calculate the number of ask posts in each hour of the day, along with the number of comments received.</li>\n",
    "    \n",
    "    \n",
    "  <li>Calculate the average number of comments ask posts receive by hour created.</li>\n",
    "</ol>\n",
    "\n",
    "I will use the `datetime` module to work with the data in the `created_at` column. \n",
    "\n",
    "#### Part One"
   ]
  },
  {
   "cell_type": "code",
   "execution_count": 10,
   "metadata": {},
   "outputs": [
    {
     "name": "stdout",
     "output_type": "stream",
     "text": [
      "[['8/16/2016 9:55', 6], ['11/22/2015 13:43', 29], ['5/2/2016 10:14', 1]]\n"
     ]
    }
   ],
   "source": [
    "import datetime as dt\n",
    "\n",
    "result_list = [] #creating an empty list to assign the results to\n",
    "\n",
    "for row in ask_posts:\n",
    "#the first element should be the column created_at\n",
    "#the second element should be the number of comments of the post\n",
    "    result_list.append([row[6],int(row[4])])\n",
    "    \n",
    "#verify if results_list was succssful\n",
    "print(result_list[:3]) "
   ]
  },
  {
   "cell_type": "markdown",
   "metadata": {},
   "source": [
    "#### Part Two"
   ]
  },
  {
   "cell_type": "code",
   "execution_count": 11,
   "metadata": {},
   "outputs": [
    {
     "name": "stdout",
     "output_type": "stream",
     "text": [
      "The counts by hour were: {9: 45, 13: 85, 10: 59, 14: 107, 16: 108, 23: 68, 12: 73, 17: 100, 15: 116, 21: 109, 20: 80, 2: 58, 18: 109, 3: 54, 5: 46, 19: 110, 1: 60, 22: 71, 8: 48, 4: 47, 0: 55, 6: 44, 7: 34, 11: 58}\n",
      "\n",
      "\n",
      "The comments by hour were: {9: 251, 13: 1253, 10: 793, 14: 1416, 16: 1814, 23: 543, 12: 687, 17: 1146, 15: 4477, 21: 1745, 20: 1722, 2: 1381, 18: 1439, 3: 421, 5: 464, 19: 1188, 1: 683, 22: 479, 8: 492, 4: 337, 0: 447, 6: 397, 7: 267, 11: 641}\n"
     ]
    }
   ],
   "source": [
    "#Creating two empty dictionaires\n",
    "counts_by_hour = {}\n",
    "comments_by_hour = {}\n",
    "\n",
    "for row in result_list:\n",
    "    #storing the hour from the date\n",
    "    date = row[0]\n",
    "    comments_number = row[1]\n",
    "    #parsing the date and create a datetime object\n",
    "    date_made = dt.datetime.strptime(date,\"%m/%d/%Y %H:%M\")\n",
    "    hour_made = date_made.hour\n",
    "    #if the hour isn't a key in counts_by_hour\n",
    "    if hour_made in counts_by_hour:\n",
    "        counts_by_hour[hour_made] += 1\n",
    "        comments_by_hour[hour_made] += comments_number\n",
    "    #if the hour is already a key in counts_by_hour\n",
    "    else:\n",
    "        counts_by_hour[hour_made] = 1\n",
    "        comments_by_hour[hour_made] = comments_number\n",
    "        \n",
    "#check to see if counts and comments by hour were successfully created\n",
    "print(\"The counts by hour were:\", counts_by_hour)\n",
    "print(\"\\n\")\n",
    "print(\"The comments by hour were:\", comments_by_hour)   "
   ]
  },
  {
   "cell_type": "markdown",
   "metadata": {},
   "source": [
    "Above, I created two dictionaires:\n",
    "- `counts_by_hour`: contains the number of ask posts created during each hour of the day.\n",
    "- `comments_by_hour`: contains the corresponding number of comments ask posts created at each hour received. \n",
    "\n",
    "Now, I will use the two dictionaries to calculate the average number of comments for posts created during each hour of the day. \n",
    "\n",
    "To do this, I will create a list of lists containing the hours during which posts were created and the average number of comments those posts received. "
   ]
  },
  {
   "cell_type": "code",
   "execution_count": 12,
   "metadata": {},
   "outputs": [
    {
     "name": "stdout",
     "output_type": "stream",
     "text": [
      "[[9, 5.5777777777777775], [13, 14.741176470588234], [10, 13.440677966101696], [14, 13.233644859813085], [16, 16.796296296296298], [23, 7.985294117647059], [12, 9.41095890410959], [17, 11.46], [15, 38.5948275862069], [21, 16.009174311926607], [20, 21.525], [2, 23.810344827586206], [18, 13.20183486238532], [3, 7.796296296296297], [5, 10.08695652173913], [19, 10.8], [1, 11.383333333333333], [22, 6.746478873239437], [8, 10.25], [4, 7.170212765957447], [0, 8.127272727272727], [6, 9.022727272727273], [7, 7.852941176470588], [11, 11.051724137931034]]\n"
     ]
    }
   ],
   "source": [
    "avg_by_hour = []\n",
    "\n",
    "for row in counts_by_hour:\n",
    "    post_avg = comments_by_hour[row] / counts_by_hour[row]\n",
    "    avg_by_hour.append([row, post_avg])\n",
    "\n",
    "print(avg_by_hour)"
   ]
  },
  {
   "cell_type": "markdown",
   "metadata": {},
   "source": [
    "Although I now have the results I need, this format makes it difficult to identify the hours with the highest values. I will finish by sorting the list of lists and printing the five highest values in a format that's easier to read. "
   ]
  },
  {
   "cell_type": "code",
   "execution_count": 13,
   "metadata": {},
   "outputs": [
    {
     "name": "stdout",
     "output_type": "stream",
     "text": [
      "[[5.5777777777777775, 9], [14.741176470588234, 13], [13.440677966101696, 10], [13.233644859813085, 14], [16.796296296296298, 16], [7.985294117647059, 23], [9.41095890410959, 12], [11.46, 17], [38.5948275862069, 15], [16.009174311926607, 21], [21.525, 20], [23.810344827586206, 2], [13.20183486238532, 18], [7.796296296296297, 3], [10.08695652173913, 5], [10.8, 19], [11.383333333333333, 1], [6.746478873239437, 22], [10.25, 8], [7.170212765957447, 4], [8.127272727272727, 0], [9.022727272727273, 6], [7.852941176470588, 7], [11.051724137931034, 11]]\n"
     ]
    }
   ],
   "source": [
    "#create a list with swapped columns\n",
    "#first an empty list\n",
    "swap_avg_by_hour = []\n",
    "\n",
    "#iterate over avg_by_hour\n",
    "for row in avg_by_hour:\n",
    "    swap_avg_by_hour.append([row[1],row[0]])\n",
    "    \n",
    "print(swap_avg_by_hour)   "
   ]
  },
  {
   "cell_type": "markdown",
   "metadata": {},
   "source": [
    "The previous code swapped the previous results so that the average number of comments is displayed first compared to being displayed second. Next, we will use the sort function to put the values in descending order."
   ]
  },
  {
   "cell_type": "code",
   "execution_count": 14,
   "metadata": {},
   "outputs": [
    {
     "name": "stdout",
     "output_type": "stream",
     "text": [
      "The Top 5 Hours for Ask Post Comments:\n",
      "15:00 38.59 average comments per post\n",
      "02:00 23.81 average comments per post\n",
      "20:00 21.52 average comments per post\n",
      "16:00 16.80 average comments per post\n",
      "21:00 16.01 average comments per post\n"
     ]
    }
   ],
   "source": [
    "sorted_swap_avg = sorted(swap_avg_by_hour, reverse = True)\n",
    "\n",
    "print(\"The Top 5 Hours for Ask Post Comments:\")\n",
    "\n",
    "#loop through the first five sorted values and format \n",
    "for row in sorted_swap_avg[:5]:\n",
    "    hour_form = dt.datetime.strptime(str(row[1]), \"%H\")\n",
    "    hour_form = hour_form.strftime(\"%H:%M\")\n",
    "    print(hour_form,'{:.2f}'.format(row[0]),'average comments per post')\n",
    "  "
   ]
  },
  {
   "cell_type": "markdown",
   "metadata": {},
   "source": [
    "## Conclusion\n",
    "Based on our results, if we create a post at 15:00 EST, then we should have the best chance of receiving a higher number of comments. \n",
    "\n",
    "Because I live in the Central Time zone I am going to to conver the times to CT. "
   ]
  },
  {
   "cell_type": "code",
   "execution_count": 15,
   "metadata": {},
   "outputs": [
    {
     "name": "stdout",
     "output_type": "stream",
     "text": [
      "Top 5 Hours for Ask Posts Comments (Time zone: CT, -1 from EST)\n",
      "14:00 38.59 average comments per post\n",
      "01:00 23.81 average comments per post\n",
      "19:00 21.52 average comments per post\n",
      "15:00 16.80 average comments per post\n",
      "20:00 16.01 average comments per post\n"
     ]
    }
   ],
   "source": [
    "print('Top 5 Hours for Ask Posts Comments (Time zone: CT, -1 from EST)')\n",
    "for row in sorted_swap_avg[:5]:\n",
    "    # format the hours\n",
    "    adj_time = (dt.datetime.strptime(str(row[1]), \"%H\") + dt.timedelta(hours = -1)).strftime(\"%H:%M\")\n",
    "    print(adj_time,'{:.2f}'.format(row[0]),'average comments per post')"
   ]
  },
  {
   "cell_type": "markdown",
   "metadata": {},
   "source": []
  }
 ],
 "metadata": {
  "kernelspec": {
   "display_name": "Python 3",
   "language": "python",
   "name": "python3"
  },
  "language_info": {
   "codemirror_mode": {
    "name": "ipython",
    "version": 3
   },
   "file_extension": ".py",
   "mimetype": "text/x-python",
   "name": "python",
   "nbconvert_exporter": "python",
   "pygments_lexer": "ipython3",
   "version": "3.8.2"
  }
 },
 "nbformat": 4,
 "nbformat_minor": 2
}
